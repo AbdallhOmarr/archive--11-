{
 "cells": [
  {
   "cell_type": "code",
   "execution_count": 178,
   "metadata": {},
   "outputs": [],
   "source": [
    "# importing needed lib\n",
    "import pandas as pd \n",
    "import numpy as np\n",
    "import matplotlib.pyplot as plt\n",
    "from sklearn.model_selection import train_test_split\n",
    "import random\n",
    "from sklearn.metrics import r2_score\n",
    "\n"
   ]
  },
  {
   "cell_type": "code",
   "execution_count": 158,
   "metadata": {},
   "outputs": [],
   "source": [
    "#reading the data from csv file into pandas dataframe\n",
    "df = pd.read_csv(\"Salary_dataset.csv\",index_col=[0])"
   ]
  },
  {
   "cell_type": "code",
   "execution_count": 159,
   "metadata": {},
   "outputs": [
    {
     "data": {
      "text/html": [
       "<div>\n",
       "<style scoped>\n",
       "    .dataframe tbody tr th:only-of-type {\n",
       "        vertical-align: middle;\n",
       "    }\n",
       "\n",
       "    .dataframe tbody tr th {\n",
       "        vertical-align: top;\n",
       "    }\n",
       "\n",
       "    .dataframe thead th {\n",
       "        text-align: right;\n",
       "    }\n",
       "</style>\n",
       "<table border=\"1\" class=\"dataframe\">\n",
       "  <thead>\n",
       "    <tr style=\"text-align: right;\">\n",
       "      <th></th>\n",
       "      <th>YearsExperience</th>\n",
       "      <th>Salary</th>\n",
       "    </tr>\n",
       "  </thead>\n",
       "  <tbody>\n",
       "    <tr>\n",
       "      <th>0</th>\n",
       "      <td>1.2</td>\n",
       "      <td>39344.0</td>\n",
       "    </tr>\n",
       "    <tr>\n",
       "      <th>1</th>\n",
       "      <td>1.4</td>\n",
       "      <td>46206.0</td>\n",
       "    </tr>\n",
       "    <tr>\n",
       "      <th>2</th>\n",
       "      <td>1.6</td>\n",
       "      <td>37732.0</td>\n",
       "    </tr>\n",
       "    <tr>\n",
       "      <th>3</th>\n",
       "      <td>2.1</td>\n",
       "      <td>43526.0</td>\n",
       "    </tr>\n",
       "    <tr>\n",
       "      <th>4</th>\n",
       "      <td>2.3</td>\n",
       "      <td>39892.0</td>\n",
       "    </tr>\n",
       "  </tbody>\n",
       "</table>\n",
       "</div>"
      ],
      "text/plain": [
       "   YearsExperience   Salary\n",
       "0              1.2  39344.0\n",
       "1              1.4  46206.0\n",
       "2              1.6  37732.0\n",
       "3              2.1  43526.0\n",
       "4              2.3  39892.0"
      ]
     },
     "execution_count": 159,
     "metadata": {},
     "output_type": "execute_result"
    }
   ],
   "source": [
    "df.head()"
   ]
  },
  {
   "cell_type": "code",
   "execution_count": 160,
   "metadata": {},
   "outputs": [
    {
     "data": {
      "image/png": "[encoded data removed]",
      "text/plain": [
       "<Figure size 432x288 with 1 Axes>"
      ]
     },
     "metadata": {
      "needs_background": "light"
     },
     "output_type": "display_data"
    }
   ],
   "source": [
    "# plotting the dataset\n",
    "plt.scatter(df[\"YearsExperience\"], df[\"Salary\"])\n",
    "\n",
    "# adding title and axes labels\n",
    "plt.title(\"Salary vs Years of Experience\")\n",
    "plt.xlabel(\"Years of Experience\")\n",
    "plt.ylabel(\"Salary\")\n",
    "\n",
    "# displaying the plot\n",
    "plt.show()\n",
    "\n"
   ]
  },
  {
   "cell_type": "code",
   "execution_count": 161,
   "metadata": {},
   "outputs": [],
   "source": [
    "# x = feature \n",
    "# y = target value \n",
    "x = df[\"YearsExperience\"]\n",
    "y = df['Salary']\n",
    "\n"
   ]
  },
  {
   "cell_type": "code",
   "execution_count": 162,
   "metadata": {},
   "outputs": [],
   "source": [
    "# length of the dataset\n",
    "m = df.shape[0]\n"
   ]
  },
  {
   "cell_type": "code",
   "execution_count": 163,
   "metadata": {},
   "outputs": [],
   "source": [
    "#split the dataset into train, test dataset\n",
    "x_train,x_test, y_train,y_test = train_test_split(x,y,test_size=0.2,random_state=42)"
   ]
  },
  {
   "cell_type": "code",
   "execution_count": 164,
   "metadata": {},
   "outputs": [],
   "source": [
    "# Reset the indices of the data\n",
    "x_train = x_train.reset_index(drop=True)\n",
    "x_test = x_test.reset_index(drop=True)\n",
    "y_train = y_train.reset_index(drop=True)\n",
    "y_test = y_test.reset_index(drop=True)\n"
   ]
  },
  {
   "cell_type": "code",
   "execution_count": 165,
   "metadata": {},
   "outputs": [
    {
     "data": {
      "image/png": "[encoded data removed]",
      "text/plain": [
       "<Figure size 432x288 with 1 Axes>"
      ]
     },
     "metadata": {
      "needs_background": "light"
     },
     "output_type": "display_data"
    }
   ],
   "source": [
    "# plotting train dataset and y dataset to check if its randomly choosen and not baised \n",
    "plt.scatter(x_train, y_train) #blue\n",
    "plt.scatter(x_test, y_test) #orange\n",
    "plt.show()"
   ]
  },
  {
   "cell_type": "code",
   "execution_count": 166,
   "metadata": {},
   "outputs": [],
   "source": [
    "def compute_cost(x, y, w, b):\n",
    "    \"\"\"\n",
    "    Compute the cost function J for a linear regression model.\n",
    "\n",
    "    Parameters:\n",
    "    x (numpy array): input features\n",
    "    y (numpy array): target values\n",
    "    w (float): weight parameter of the model\n",
    "    b (float): bias parameter of the model\n",
    "\n",
    "    Returns:\n",
    "    total_cost (float): the value of the cost function J\n",
    "\n",
    "    \"\"\"\n",
    "    # Initialize cost and number of training examples\n",
    "    cost = 0\n",
    "    m = len(x)\n",
    "\n",
    "    # Compute the sum of squared errors over all training examples\n",
    "    for i in range(m):\n",
    "        cost += ((w * x[i] + b) - y[i]) ** 2\n",
    "\n",
    "    # Divide the total cost by twice the number of training examples\n",
    "    # to obtain the final value of the cost function J\n",
    "    total_cost = cost / (2 * m)\n",
    "\n",
    "    return total_cost\n"
   ]
  },
  {
   "cell_type": "code",
   "execution_count": 167,
   "metadata": {},
   "outputs": [],
   "source": [
    "def compute_gradient(x, y, w, b):\n",
    "    \"\"\"\n",
    "    Compute the gradient of the cost function J with respect to\n",
    "    the weight and bias parameters.\n",
    "\n",
    "    Parameters:\n",
    "    x (numpy array): input features\n",
    "    y (numpy array): target values\n",
    "    w (float): weight parameter of the model\n",
    "    b (float): bias parameter of the model\n",
    "\n",
    "    Returns:\n",
    "    dw (float): the partial derivative of J with respect to w\n",
    "    db (float): the partial derivative of J with respect to b\n",
    "\n",
    "    \"\"\"\n",
    "    # Initialize gradients and number of training examples\n",
    "    dw = 0\n",
    "    db = 0 \n",
    "    m = len(x)\n",
    "\n",
    "    # Compute the gradients over all training examples\n",
    "    for i in range(m):\n",
    "        dw += ((w * x[i] + b) - y[i]) * x[i]\n",
    "        db += ((w * x[i] + b) - y[i])\n",
    "\n",
    "    # Divide the gradients by the number of training examples\n",
    "    # to obtain the partial derivatives of J with respect to w and b\n",
    "    dw = (1 / m) * dw\n",
    "    db = (1 / m) * db\n",
    "\n",
    "    return dw, db\n"
   ]
  },
  {
   "cell_type": "code",
   "execution_count": 168,
   "metadata": {},
   "outputs": [],
   "source": [
    "def model(w,b,x_i):\n",
    "    f_wb = w*x_i+b\n",
    "    return f_wb\n"
   ]
  },
  {
   "cell_type": "code",
   "execution_count": 169,
   "metadata": {},
   "outputs": [],
   "source": [
    "def fit_model(epochs, l):\n",
    "    # Randomly initialize w and b\n",
    "    w = random.uniform(-1, 1)\n",
    "    b = random.uniform(-1, 1)\n",
    "    \n",
    "    # Train the model for the specified number of epochs\n",
    "    for i in range(epochs):\n",
    "        # Compute the cost and gradient using the current values of w and b\n",
    "        cost = compute_cost(x, y, w, b)\n",
    "        gradient = compute_gradient(x, y, w, b)\n",
    "        dw = gradient[0]\n",
    "        db = gradient[1]\n",
    "\n",
    "        # Update the values of w and b using the learning rate\n",
    "        w = w - l * dw\n",
    "        b = b - l * db\n",
    "        \n",
    "        # Print the cost and updated values of w and b every 1000 epochs\n",
    "        if i % 1000 == 0:\n",
    "            print(\"Epoch:\", i, \"Cost:\", cost, \"w:\", w, \"b:\", b)\n",
    "    return w,b"
   ]
  },
  {
   "cell_type": "code",
   "execution_count": 170,
   "metadata": {},
   "outputs": [
    {
     "name": "stdout",
     "output_type": "stream",
     "text": [
      "Epoch: 0 Cost: 3251750849.368371 w: 48.07546536565387 b: 7.7274758479974714\n",
      "Epoch: 1000 Cost: 70375572.99770279 w: 12465.041149163264 b: 2307.331258129302\n",
      "Epoch: 2000 Cost: 66630855.99448871 w: 12678.42392959345 b: 2806.1439537937986\n",
      "Epoch: 3000 Cost: 64576627.090452395 w: 12618.927931259203 b: 3255.397905252812\n",
      "Epoch: 4000 Cost: 62605894.02340337 w: 12554.608075343393 b: 3694.6281780902796\n",
      "Epoch: 5000 Cost: 60714517.63595056 w: 12491.460937311673 b: 4124.904358845021\n",
      "Epoch: 6000 Cost: 58899302.04901665 w: 12429.59520129227 b: 4546.428031026186\n",
      "Epoch: 7000 Cost: 57157180.465356275 w: 12368.987780958449 b: 4959.377662709439\n",
      "Epoch: 8000 Cost: 55485209.57985829 w: 12309.613148373906 b: 5363.9276645604605\n",
      "Epoch: 9000 Cost: 53880564.606641516 w: 12251.44622944058 b: 5760.2488900324\n",
      "Epoch: 10000 Cost: 52340534.506594226 w: 12194.462458611993 b: 6148.508717106604\n",
      "Epoch: 11000 Cost: 50862517.407087535 w: 12138.637769985724 b: 6528.871119196534\n",
      "Epoch: 12000 Cost: 49444016.206125885 w: 12083.948587172668 b: 6901.496734403371\n",
      "Epoch: 13000 Cost: 48082634.35350656 w: 12030.371813340946 b: 7266.5429333582315\n",
      "Epoch: 14000 Cost: 46776071.801860504 w: 11977.884821461217 b: 7624.16388568441\n",
      "Epoch: 15000 Cost: 45522121.1207352 w: 11926.465444750822 b: 7974.51062510763\n",
      "Epoch: 16000 Cost: 44318663.76715212 w: 11876.09196731197 b: 8317.73111324203\n",
      "Epoch: 17000 Cost: 43163666.506340094 w: 11826.74311496057 b: 8653.970302078647\n",
      "Epoch: 18000 Cost: 42055177.976595685 w: 11778.398046241493 b: 8983.370195202859\n",
      "Epoch: 19000 Cost: 40991325.39246824 w: 11731.03634362662 b: 9306.069907766627\n",
      "Epoch: 20000 Cost: 39970311.38069897 w: 11684.638004891915 b: 9622.205725240805\n",
      "Epoch: 21000 Cost: 38990410.94356821 w: 11639.183434669938 b: 9931.91116097255\n",
      "Epoch: 22000 Cost: 38049968.54452107 w: 11594.65343617413 b: 10235.317012571813\n",
      "Epoch: 23000 Cost: 37147395.31114708 w: 11551.02920309146 b: 10532.551417151093\n",
      "Epoch: 24000 Cost: 36281166.35078933 w: 11508.292311639947 b: 10823.739905441253\n",
      "Epoch: 25000 Cost: 35449818.174245805 w: 11466.42471278777 b: 11109.005454806986\n",
      "Epoch: 26000 Cost: 34651946.22321228 w: 11425.40872463068 b: 11388.468541183742\n",
      "Epoch: 27000 Cost: 33886202.49728902 w: 11385.227024924368 b: 11662.247189958049\n",
      "Epoch: 28000 Cost: 33151293.276540756 w: 11345.862643768769 b: 11930.457025813244\n",
      "Epoch: 29000 Cost: 32445976.93576429 w: 11307.29895644126 b: 12193.211321560995\n",
      "Epoch: 30000 Cost: 31769061.846768923 w: 11269.519676375447 b: 12450.621045979799\n",
      "Epoch: 31000 Cost: 31119404.365127023 w: 11232.508848282967 b: 12702.79491068033\n",
      "Epoch: 32000 Cost: 30495906.897993375 w: 11196.250841415045 b: 12949.83941601737\n",
      "Epoch: 33000 Cost: 29897516.049727354 w: 11160.730342961224 b: 13191.85889606815\n",
      "Epoch: 34000 Cost: 29323220.84218667 w: 11125.932351582234 b: 13428.955562695688\n",
      "Epoch: 35000 Cost: 28772051.006685495 w: 11091.842171074619 b: 13661.229548715732\n",
      "Epoch: 36000 Cost: 28243075.344730757 w: 11058.445404164011 b: 13888.778950185675\n",
      "Epoch: 37000 Cost: 27735400.154766526 w: 11025.727946424737 b: 14111.699867833717\n",
      "Epoch: 38000 Cost: 27248167.72227102 w: 10993.675980323147 b: 14330.086447644595\n",
      "Epoch: 39000 Cost: 26780554.870651715 w: 10962.27596938209 b: 14544.03092062043\n",
      "Epoch: 40000 Cost: 26331771.570493363 w: 10931.514652464006 b: 14753.62364173243\n",
      "Epoch: 41000 Cost: 25901059.60480733 w: 10901.379038170398 b: 14958.953128080457\n",
      "Epoch: 42000 Cost: 25487691.288028058 w: 10871.856399355176 b: 15160.106096276386\n",
      "Epoch: 43000 Cost: 25090968.236591987 w: 10842.934267749592 b: 15357.167499067149\n",
      "Epoch: 44000 Cost: 24710220.1890227 w: 10814.60042869664 b: 15550.220561212496\n",
      "Epoch: 45000 Cost: 24344803.87352742 w: 10786.842915992258 b: 15739.346814633465\n",
      "Epoch: 46000 Cost: 23994101.92119274 w: 10759.65000683181 b: 15924.626132845595\n",
      "Epoch: 47000 Cost: 23657521.822943233 w: 10733.010216859124 b: 16106.136764691868\n",
      "Epoch: 48000 Cost: 23334494.928500656 w: 10706.912295316384 b: 16283.95536738937\n",
      "Epoch: 49000 Cost: 23024475.48565213 w: 10681.345220292555 b: 16458.15703890396\n",
      "Epoch: 50000 Cost: 22726939.71820478 w: 10656.298194068495 b: 16628.815349666293\n",
      "Epoch: 51000 Cost: 22441384.941068474 w: 10631.760638556769 b: 16796.00237364288\n",
      "Epoch: 52000 Cost: 22167328.71097257 w: 10607.722190834325 b: 16959.788718774693\n",
      "Epoch: 53000 Cost: 21904308.011380002 w: 10584.17269876578 b: 17120.24355679726\n",
      "Epoch: 54000 Cost: 21651878.47022357 w: 10561.102216715939 b: 17277.434652453816\n",
      "Epoch: 55000 Cost: 21409613.60914168 w: 10538.501001349468 b: 17431.42839211429\n",
      "Epoch: 56000 Cost: 21177104.1229455 w: 10516.359507516014 b: 17582.289811812178\n",
      "Epoch: 57000 Cost: 20953957.188100018 w: 10494.668384218978 b: 17730.082624711158\n",
      "Epoch: 58000 Cost: 20739795.79905052 w: 10473.418470666327 b: 17874.869248013154\n",
      "Epoch: 59000 Cost: 20534258.13127412 w: 10452.600792401774 b: 18016.710829318705\n",
      "Epoch: 60000 Cost: 20336996.92997874 w: 10432.206557514492 b: 18155.66727245162\n",
      "Epoch: 61000 Cost: 20147678.923418526 w: 10412.227152926167 b: 18291.797262757813\n",
      "Epoch: 62000 Cost: 19965984.25983245 w: 10392.654140753348 b: 18425.15829189011\n",
      "Epoch: 63000 Cost: 19791605.967056848 w: 10373.479254743912 b: 18555.806682088478\n",
      "Epoch: 64000 Cost: 19624249.433897316 w: 10354.694396786 b: 18683.797609966674\n",
      "Epoch: 65000 Cost: 19463631.91238501 w: 10336.291633487943 b: 18809.18512981473\n",
      "Epoch: 66000 Cost: 19309482.04007527 w: 10318.26319282776 b: 18932.022196427788\n",
      "Epoch: 67000 Cost: 19161539.38158198 w: 10300.601460870777 b: 19052.360687470566\n",
      "Epoch: 68000 Cost: 19019553.9885738 w: 10283.29897855412 b: 19170.25142538661\n",
      "Epoch: 69000 Cost: 18883285.977487683 w: 10266.348438536435 b: 19285.744198862034\n",
      "Epoch: 70000 Cost: 18752505.124246694 w: 10249.74268211184 b: 19398.88778385296\n",
      "Epoch: 71000 Cost: 18626990.475297775 w: 10233.474696186591 b: 19509.729964184888\n",
      "Epoch: 72000 Cost: 18506529.97431183 w: 10217.537610317277 b: 19618.31755173329\n",
      "Epoch: 73000 Cost: 18390920.103915893 w: 10201.924693809142 b: 19724.696406193445\n",
      "Epoch: 74000 Cost: 18279965.541851375 w: 10186.629352873651 b: 19828.9114544485\n",
      "Epoch: 75000 Cost: 18173478.830978267 w: 10171.645127843594 b: 19931.00670954332\n",
      "Epoch: 76000 Cost: 18071280.062567294 w: 10156.965690445086 b: 20031.025289272446\n",
      "Epoch: 77000 Cost: 17973196.572345033 w: 10142.584841124932 b: 20129.009434390133\n",
      "Epoch: 78000 Cost: 17879062.648778576 w: 10128.496506432331 b: 20225.000526449723\n",
      "Epoch: 79000 Cost: 17788719.253106963 w: 10114.694736453966 b: 20319.03910528011\n",
      "Epoch: 80000 Cost: 17702013.750645597 w: 10101.173702301072 b: 20411.164886107385\n",
      "Epoch: 81000 Cost: 17618799.65291132 w: 10087.927693647825 b: 20501.41677632712\n",
      "Epoch: 82000 Cost: 17538936.37013026 w: 10074.95111631964 b: 20589.83289193677\n",
      "Epoch: 83000 Cost: 17462288.97371278 w: 10062.238489930633 b: 20676.450573632497\n",
      "Epoch: 84000 Cost: 17388727.9682921 w: 10049.784445569074 b: 20761.30640257956\n",
      "Epoch: 85000 Cost: 17318129.072942372 w: 10037.583723529939 b: 20844.43621586171\n",
      "Epoch: 86000 Cost: 17250373.01120697 w: 10025.631171093572 b: 20925.875121616038\n",
      "Epoch: 87000 Cost: 17185345.309581466 w: 10013.92174034959 b: 21005.657513860217\n",
      "Epoch: 88000 Cost: 17122936.104111295 w: 10002.450486064912 b: 21083.817087018102\n",
      "Epoch: 89000 Cost: 17063039.95477711 w: 9991.212563595358 b: 21160.38685014991\n",
      "Epoch: 90000 Cost: 17005555.667354543 w: 9980.203226839527 b: 21235.39914089279\n",
      "Epoch: 91000 Cost: 16950386.122447055 w: 9969.417826234416 b: 21308.885639118023\n",
      "Epoch: 92000 Cost: 16897438.111403096 w: 9958.851806791778 b: 21380.877380310438\n",
      "Epoch: 93000 Cost: 16846622.17884089 w: 9948.500706174404 b: 21451.404768675373\n",
      "Epoch: 94000 Cost: 16797852.471513715 w: 9938.36015281154 b: 21520.49758997955\n",
      "Epoch: 95000 Cost: 16751046.593261532 w: 9928.425864052691 b: 21588.185024130213\n",
      "Epoch: 96000 Cost: 16706125.46580305 w: 9918.693644358877 b: 21654.4956574987\n",
      "Epoch: 97000 Cost: 16663013.195133332 w: 9909.159383530752 b: 21719.457494993498\n",
      "Epoch: 98000 Cost: 16621636.943301285 w: 9899.81905497276 b: 21783.09797188733\n",
      "Epoch: 99000 Cost: 16581926.805350525 w: 9890.668713992613 b: 21845.443965403807\n",
      "Epoch: 100000 Cost: 16543815.69121504 w: 9881.704496135251 b: 21906.521806068657\n",
      "Epoch: 101000 Cost: 16507239.21237105 w: 9872.922615550848 b: 21966.35728882983\n",
      "Epoch: 102000 Cost: 16472135.57305289 w: 9864.319363395934 b: 22024.97568395134\n",
      "Epoch: 103000 Cost: 16438445.46584941 w: 9855.891106266961 b: 22082.401747685755\n",
      "Epoch: 104000 Cost: 16406111.97150445 w: 9847.634284665897 b: 22138.659732729448\n",
      "Epoch: 105000 Cost: 16375080.462751986 w: 9839.545411496947 b: 22193.773398465117\n",
      "Epoch: 106000 Cost: 16345298.512023753 w: 9831.621070593754 b: 22247.7660209962\n",
      "Epoch: 107000 Cost: 16316715.802873038 w: 9823.85791527679 b: 22300.660402976966\n",
      "Epoch: 108000 Cost: 16289284.044965383 w: 9816.252666939861 b: 22352.47888324284\n",
      "Epoch: 109000 Cost: 16262956.892492373 w: 9808.802113665453 b: 22403.24334624452\n",
      "Epoch: 110000 Cost: 16237689.865870455 w: 9801.503108868324 b: 22452.975231290784\n",
      "Epoch: 111000 Cost: 16213440.276593093 w: 9794.352569966502 b: 22501.695541602603\n",
      "Epoch: 112000 Cost: 16190167.155108742 w: 9787.347477079524 b: 22549.424853183515\n",
      "Epoch: 113000 Cost: 16167831.181603018 w: 9780.484871753017 b: 22596.183323509384\n",
      "Epoch: 114000 Cost: 16146394.619567866 w: 9773.76185570921 b: 22641.990700041883\n",
      "Epoch: 115000 Cost: 16125821.252046268 w: 9767.175589622955 b: 22686.86632856785\n",
      "Epoch: 116000 Cost: 16106076.320443703 w: 9760.723291922608 b: 22730.829161369915\n",
      "Epoch: 117000 Cost: 16087126.465803659 w: 9754.402237615239 b: 22773.89776523061\n",
      "Epoch: 118000 Cost: 16068939.672447924 w: 9748.209757135837 b: 22816.090329273513\n",
      "Epoch: 119000 Cost: 16051485.213886298 w: 9742.143235219866 b: 22857.42467264509\n",
      "Epoch: 120000 Cost: 16034733.600904217 w: 9736.200109798723 b: 22897.91825204041\n",
      "Epoch: 121000 Cost: 16018656.531741036 w: 9730.377870917753 b: 22937.588169075327\n",
      "Epoch: 122000 Cost: 16003226.844274282 w: 9724.674059676214 b: 22976.451177509174\n",
      "Epoch: 123000 Cost: 15988418.470129397 w: 9719.086267188779 b: 23014.523690320308\n",
      "Epoch: 124000 Cost: 15974206.390637355 w: 9713.612133568226 b: 23051.821786637796\n",
      "Epoch: 125000 Cost: 15960566.594565712 w: 9708.249346928735 b: 23088.36121853226\n",
      "Epoch: 126000 Cost: 15947476.037551908 w: 9702.995642409625 b: 23124.157417668015\n",
      "Epoch: 127000 Cost: 15934912.603169741 w: 9697.848801218715 b: 23159.225501820758\n",
      "Epoch: 128000 Cost: 15922855.065563979 w: 9692.806649695352 b: 23193.580281262006\n",
      "Epoch: 129000 Cost: 15911283.053589188 w: 9687.86705839231 b: 23227.236265013977\n",
      "Epoch: 130000 Cost: 15900177.016392956 w: 9683.027941176613 b: 23260.20766697706\n",
      "Epoch: 131000 Cost: 15889518.190384798 w: 9678.287254348332 b: 23292.508411932926\n",
      "Epoch: 132000 Cost: 15879288.567535037 w: 9673.642995777602 b: 23324.152141425395\n",
      "Epoch: 133000 Cost: 15869470.86495052 w: 9669.093204058989 b: 23355.152219521395\n",
      "Epoch: 134000 Cost: 15860048.495675202 w: 9664.635957683173 b: 23385.521738455183\n",
      "Epoch: 135000 Cost: 15851005.540666496 w: 9660.269374225445 b: 23415.273524157587\n",
      "Epoch: 136000 Cost: 15842326.721900191 w: 9655.991609550601 b: 23444.420141672825\n",
      "Epoch: 137000 Cost: 15833997.376558345 w: 9651.800857034279 b: 23472.973900464796\n",
      "Epoch: 138000 Cost: 15826003.432256494 w: 9647.695346799841 b: 23500.946859616055\n",
      "Epoch: 139000 Cost: 15818331.383268436 w: 9643.673344970952 b: 23528.350832920518\n",
      "Epoch: 140000 Cost: 15810968.267708391 w: 9639.73315293932 b: 23555.197393872844\n",
      "Epoch: 141000 Cost: 15803901.645631967 w: 9635.873106647272 b: 23581.497880556235\n",
      "Epoch: 142000 Cost: 15797119.578018866 w: 9632.091575885031 b: 23607.263400430977\n",
      "Epoch: 143000 Cost: 15790610.60660209 w: 9628.38696360222 b: 23632.504835025175\n",
      "Epoch: 144000 Cost: 15784363.734509218 w: 9624.757705233353 b: 23657.232844530532\n",
      "Epoch: 145000 Cost: 15778368.407683192 w: 9621.20226803712 b: 23681.457872304425\n",
      "Epoch: 146000 Cost: 15772614.497051356 w: 9617.719150449 b: 23705.190149280428\n",
      "Epoch: 147000 Cost: 15767092.28141245 w: 9614.306881447188 b: 23728.43969828904\n",
      "Epoch: 148000 Cost: 15761792.431012625 w: 9610.96401993125 b: 23751.21633829088\n",
      "Epoch: 149000 Cost: 15756705.991782937 w: 9607.689154113583 b: 23773.529688523144\n"
     ]
    }
   ],
   "source": [
    "\n",
    "epochs = 150000 #number of iterations\n",
    "l = 0.0001 # learning rate\n",
    "\n",
    "w,b = fit_model(epochs, l) # training the model"
   ]
  },
  {
   "cell_type": "code",
   "execution_count": 171,
   "metadata": {},
   "outputs": [
    {
     "data": {
      "image/png": "[encoded data removed]",
      "text/plain": [
       "<Figure size 432x288 with 1 Axes>"
      ]
     },
     "metadata": {
      "needs_background": "light"
     },
     "output_type": "display_data"
    }
   ],
   "source": [
    "plt.scatter(x, y)\n",
    "\n",
    "# Compute the predicted values for the regression line\n",
    "y_pred = w * x + b\n",
    "\n",
    "# Plot the regression line\n",
    "plt.plot(x, y_pred, color='red')\n",
    "\n",
    "# Add labels and a title to the plot\n",
    "plt.xlabel('Input feature')\n",
    "plt.ylabel('Output value')\n",
    "plt.title('Linear regression model')\n",
    "\n",
    "# Show the plot\n",
    "plt.show()\n"
   ]
  },
  {
   "cell_type": "code",
   "execution_count": 172,
   "metadata": {},
   "outputs": [],
   "source": [
    "def calculate_mse(y_true, y_pred):\n",
    "    \"\"\"\n",
    "    Calculates the Mean Squared Error (MSE) between the true and predicted values.\n",
    "\n",
    "    Args:\n",
    "    y_true: array-like, true values\n",
    "    y_pred: array-like, predicted values\n",
    "\n",
    "    Returns:\n",
    "    mse: float, the Mean Squared Error (MSE)\n",
    "    \"\"\"\n",
    "    n = len(y_true)\n",
    "    mse = sum([(y_true[i] - y_pred[i]) ** 2 for i in range(n)]) / n\n",
    "    return mse\n"
   ]
  },
  {
   "cell_type": "code",
   "execution_count": 173,
   "metadata": {},
   "outputs": [],
   "source": [
    "mse = calculate_mse(y, y_pred) #mean squred error \n",
    "mse"
   ]
  },
  {
   "cell_type": "code",
   "execution_count": 181,
   "metadata": {},
   "outputs": [
    {
     "data": {
      "text/plain": [
       "0.9566363651006894"
      ]
     },
     "execution_count": 181,
     "metadata": {},
     "output_type": "execute_result"
    }
   ],
   "source": [
    "r2_score(y, y_pred) # model accuracy"
   ]
  },
  {
   "cell_type": "code",
   "execution_count": null,
   "metadata": {},
   "outputs": [],
   "source": []
  }
 ],
 "metadata": {
  "kernelspec": {
   "display_name": "base",
   "language": "python",
   "name": "python3"
  },
  "language_info": {
   "codemirror_mode": {
    "name": "ipython",
    "version": 3
   },
   "file_extension": ".py",
   "mimetype": "text/x-python",
   "name": "python",
   "nbconvert_exporter": "python",
   "pygments_lexer": "ipython3",
   "version": "3.8.8"
  },
  "orig_nbformat": 4
 },
 "nbformat": 4,
 "nbformat_minor": 2
}
